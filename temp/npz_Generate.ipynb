{
 "cells": [
  {
   "cell_type": "code",
   "execution_count": 6,
   "id": "28754f29",
   "metadata": {},
   "outputs": [],
   "source": [
    "import pandas as pd\n",
    "from pandas_datareader import data\n",
    "from pandas_datareader.nasdaq_trader import get_nasdaq_symbols\n",
    "import numpy as np\n",
    "from scipy import signal\n",
    "import math\n",
    "import csv\n",
    "\n",
    "from FinMind.data import DataLoader\n",
    "\n",
    "from mplfinance.original_flavor import candlestick_ohlc\n",
    "import matplotlib.dates as mpl_dates\n",
    "import matplotlib.pyplot as plt\n",
    "import matplotlib.dates as mdates\n",
    "\n",
    "from datetime import datetime, date\n",
    "from io import StringIO\n",
    "import pprint as pp"
   ]
  },
  {
   "cell_type": "code",
   "execution_count": 7,
   "id": "3768ae9e",
   "metadata": {},
   "outputs": [
    {
     "name": "stdout",
     "output_type": "stream",
     "text": [
      "1962\n"
     ]
    }
   ],
   "source": [
    "trajectory_list = []\n",
    "with open(\"./data/Trajectory/2002_SMA_trajectory.csv\", 'r', encoding='utf8', newline='') as csvFile:\n",
    "    reader = csv.reader(csvFile)\n",
    "    for r in reader:\n",
    "        trajectory_list.append(r)\n",
    "\n",
    "trajectory_list\n",
    "\n",
    "final_trajectory = []\n",
    "\n",
    "for trajectory in trajectory_list:\n",
    "    if trajectory[1] == 'buy':\n",
    "        final_trajectory.append([0.5, 1])\n",
    "    elif trajectory[1] == 'sell':\n",
    "        final_trajectory.append([1.5, 1])\n",
    "    else:\n",
    "        final_trajectory.append([2.5, 0])\n",
    "\n",
    "pp.pprint(len(final_trajectory))"
   ]
  },
  {
   "cell_type": "code",
   "execution_count": 8,
   "id": "3ab4ab76",
   "metadata": {},
   "outputs": [
    {
     "name": "stdout",
     "output_type": "stream",
     "text": [
      "2330_BBAND_trajectory_50.csv\n",
      "2002_SMA_trajectory_50.csv\n",
      "2330_William_trajectory_50.csv\n",
      "2330_BBAND_trajectory_all.csv\n",
      "2002_BBAND_trajectory_50.csv\n",
      "2330_SMA_trajectory_all.csv\n",
      "2881_SMA_trajectory_all.csv\n",
      "2002_William_trajectory_all.csv\n",
      "2881_William_trajectory_50.csv\n",
      "2881_SMA_trajectory_50.csv\n",
      "2881_KD_trajectory_all.csv\n",
      "2002_KD_trajectory_50.csv\n",
      "2330_William_trajectory_all.csv\n",
      "2881_BBAND_trajectory_50.csv\n",
      "2881_BBAND_trajectory_all.csv\n",
      "2002_KD_trajectory_all.csv\n",
      "2881_William_trajectory_all.csv\n",
      "2881_KD_trajectory_50.csv\n",
      "2330_KD_trajectory_50.csv\n",
      "2002_William_trajectory_50.csv\n",
      "2330_KD_trajectory_all.csv\n",
      "2330_SMA_trajectory_50.csv\n",
      "2002_SMA_trajectory_all.csv\n",
      "2002_BBAND_trajectory_all.csv\n"
     ]
    }
   ],
   "source": [
    "import os\n",
    "\n",
    "temp = []\n",
    "for filename in os.listdir(\"./data/Trajectory\"):\n",
    "    if filename != \".ipynb_checkpoints\":\n",
    "        print(filename)"
   ]
  },
  {
   "cell_type": "code",
   "execution_count": 8,
   "id": "333b2d22",
   "metadata": {},
   "outputs": [
    {
     "data": {
      "text/plain": [
       "(1962, 2)"
      ]
     },
     "execution_count": 8,
     "metadata": {},
     "output_type": "execute_result"
    }
   ],
   "source": [
    "t_array = np.array(final_trajectory)\n",
    "t_array.shape"
   ]
  },
  {
   "cell_type": "code",
   "execution_count": 9,
   "id": "8de16009",
   "metadata": {},
   "outputs": [],
   "source": [
    "npz_file = np.load('expert_ppo2.npz', allow_pickle = True)\n",
    "npz_file = dict(npz_file)\n",
    "\n",
    "actions = npz_file['actions']\n",
    "obs = npz_file['obs']\n",
    "rewards = npz_file['rewards']\n",
    "episode_returns = npz_file['episode_returns']\n",
    "episode_starts = npz_file['episode_starts']\n",
    "\n",
    "npz_file['actions'] = t_array\n",
    "np.savez(\"expert_SMA_2002.npz\", actions = t_array, obs = obs, rewards = rewards, episode_returns = episode_returns, episode_starts = episode_starts)"
   ]
  },
  {
   "cell_type": "code",
   "execution_count": 10,
   "id": "266d25c0",
   "metadata": {},
   "outputs": [
    {
     "name": "stdout",
     "output_type": "stream",
     "text": [
      "['actions', 'obs', 'rewards', 'episode_returns', 'episode_starts']\n",
      "array([[2.5, 0. ],\n",
      "       [2.5, 0. ],\n",
      "       [2.5, 0. ],\n",
      "       ...,\n",
      "       [2.5, 0. ],\n",
      "       [2.5, 0. ],\n",
      "       [1.5, 1. ]])\n"
     ]
    }
   ],
   "source": [
    "npz_file = np.load('expert_PPO2_New.npz', allow_pickle = True)\n",
    "print(npz_file.files)\n",
    "actions = npz_file['actions']\n",
    "pp.pprint(actions)"
   ]
  },
  {
   "cell_type": "code",
   "execution_count": null,
   "id": "714dcce0",
   "metadata": {},
   "outputs": [],
   "source": []
  }
 ],
 "metadata": {
  "kernelspec": {
   "display_name": "stock",
   "language": "python",
   "name": "stock"
  },
  "language_info": {
   "codemirror_mode": {
    "name": "ipython",
    "version": 3
   },
   "file_extension": ".py",
   "mimetype": "text/x-python",
   "name": "python",
   "nbconvert_exporter": "python",
   "pygments_lexer": "ipython3",
   "version": "3.7.11"
  }
 },
 "nbformat": 4,
 "nbformat_minor": 5
}
